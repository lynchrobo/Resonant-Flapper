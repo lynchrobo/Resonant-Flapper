{
 "cells": [
  {
   "cell_type": "markdown",
   "metadata": {},
   "source": [
    "# Insect Mechanics\n",
    "\n",
    "This notebook outlines the calculations for $\\hat{k}$ and $\\hat{c}$ for hawkmoths and bumblebees."
   ]
  },
  {
   "cell_type": "markdown",
   "metadata": {},
   "source": [
    "From James's derivations, we know\n",
    "\n",
    "\\begin{equation}\n",
    "\\hat{k} = \\frac{k}{T^2I_{tot}w^2}\n",
    "\\end{equation}\n",
    "\n",
    "\\begin{equation}\n",
    "\\hat{c} = \\frac{c A_o}{I_{tot}}\n",
    "\\end{equation}"
   ]
  },
  {
   "cell_type": "markdown",
   "metadata": {},
   "source": [
    "Where the variables are described in the table below"
   ]
  },
  {
   "cell_type": "markdown",
   "metadata": {},
   "source": [
    "<table style=\"width:50%\">\n",
    "  <tr>\n",
    "    <th>Variable</th>\n",
    "    <th>Description</th>\n",
    "    <th>Units</th>\n",
    "  </tr>\n",
    "  <tr>\n",
    "    <td>k</td>\n",
    "    <td>thorax stiffness</td>\n",
    "    <td>N/m</td>\n",
    "  </tr>\n",
    "  <tr>\n",
    "    <td>T</td>\n",
    "    <td>transmission ratio</td>\n",
    "    <td>rad/m</td>\n",
    "  </tr>\n",
    "  <tr>\n",
    "    <td>w</td>\n",
    "    <td>wing angular velocity</td>\n",
    "    <td>rad/s</td>\n",
    "  </tr>\n",
    "  <tr>\n",
    "    <td>c</td>\n",
    "    <td>damping coefficient</td>\n",
    "    <td>kg/s</td>\n",
    "  </tr>\n",
    "  <tr>\n",
    "    <td>$A_{o}$</td>\n",
    "    <td>wing area</td>\n",
    "    <td>m^2</td>\n",
    "  </tr>\n",
    "</table>"
   ]
  },
  {
   "cell_type": "markdown",
   "metadata": {},
   "source": [
    "The two unknown are $k$, which we measure from experiments, and $c$. "
   ]
  },
  {
   "cell_type": "markdown",
   "metadata": {},
   "source": [
    "To estimate c, we follow the convention of <i>Conceptual design of flapping-wing micro air vehicles</i> (Whitney & Wood 2012). They approximate the drag force felt on the wing $F_D$ as"
   ]
  },
  {
   "cell_type": "markdown",
   "metadata": {},
   "source": [
    "\\begin{equation}\n",
    "F_D = \\frac{1}{2}\\rho C_D(\\alpha)\\bar{c}R^3\\hat{r}_2^2 \\dot{\\phi}^2(t)\n",
    "\\end{equation}"
   ]
  },
  {
   "cell_type": "markdown",
   "metadata": {},
   "source": [
    "After linearizing the equation, we find\n",
    "\n",
    "\\begin{equation}\n",
    "F_D = \\frac{1}{2 A_r}\\rho \\tilde{C_D}R^4\\hat{r}_2^2 \\dot{\\phi_o}\\dot{\\phi}(t)\n",
    "\\end{equation}\n",
    "\n",
    "Linearizing James's equation, \n",
    "\n",
    "\\begin{equation}\n",
    "F_D l_{cp} = c \\dot{\\phi}(t)\n",
    "\\end{equation}\n",
    "\n",
    "So we can solve for c if we know the location of the center of pressure ($l_{cp}$) as\n",
    "\n",
    "\\begin{equation}\n",
    "c = \\frac{1}{2A_r}\\rho \\tilde{C_D}R^4\\hat{r}_2^2 l_{cp} \\dot{\\phi_o}\n",
    "\\end{equation}"
   ]
  },
  {
   "cell_type": "markdown",
   "metadata": {},
   "source": [
    "## Hawkmoth Calculations"
   ]
  },
  {
   "cell_type": "markdown",
   "metadata": {},
   "source": [
    "We use these hawkmoth parameters\n",
    "\n",
    "<table style=\"width:50%\">\n",
    "  <tr>\n",
    "      <th>Variable</th>\n",
    "      <th>Description</th>\n",
    "      <th>Value</th>\n",
    "      <th>Units</th>\n",
    "      <th>Reference</th>\n",
    "\n",
    "  </tr>\n",
    "  <tr>\n",
    "    <td>$\\tilde{C}_D$</td>\n",
    "    <td>drag coefficient during translation</td>\n",
    "    <td>1.2</td>\n",
    "    <td>N/A </td>\n",
    "    <td>Han et al. 2015 </td>\n",
    "  </tr>\n",
    "  <tr>\n",
    "    <td>R</td>\n",
    "    <td>wing length </td>\n",
    "    <td>0.053</td>\n",
    "    <td>m</td>\n",
    "    <td>Hedrick & Daniel 2009 </td>\n",
    "  </tr>\n",
    "  <tr>\n",
    "    <td>$\\hat{r}_2^2$</td>\n",
    "    <td>non-dimensional wing inertia</td>\n",
    "    <td>0.43</td>\n",
    "    <td>N/A</td>\n",
    "    <td>Ellington 1983</td>\n",
    "  </tr>\n",
    "  <tr>\n",
    "    <td>$A_r$</td>\n",
    "    <td>aspect ratio</td>\n",
    "    <td>5.67</td>\n",
    "    <td>N/A</td>\n",
    "    <td>Ellington 1983</td>\n",
    "  </tr>\n",
    "  <tr>\n",
    "    <td>$A_{o}$</td>\n",
    "    <td>wing area</td>\n",
    "    <td>1.74E-3</td>\n",
    "    <td>m^2</td>\n",
    "    <td>Ellington 1983</td>\n",
    "  </tr>\n",
    "  <tr>\n",
    "    <td>$l_{cp}$</td>\n",
    "    <td>moment of center of pressure</td>\n",
    "    <td>0.032</td>\n",
    "    <td>m</td>\n",
    "    <td>Han et al. 2015</td>\n",
    "  </tr>\n",
    "  <tr>\n",
    "    <td>$I_{tot}$</td>\n",
    "    <td>total inertia</td>\n",
    "    <td>3.4E-8</td>\n",
    "    <td>kg m2</td>\n",
    "    <td>Ellington 1983</td>\n",
    "  </tr>\n",
    "  <tr>\n",
    "    <td>k</td>\n",
    "    <td>thorax stiffness</td>\n",
    "    <td>3800</td>\n",
    "    <td>N/m</td>\n",
    "    <td>Experiments</td>\n",
    "  </tr>\n",
    "  <tr>\n",
    "    <td>T</td>\n",
    "    <td>transmission ratio</td>\n",
    "    <td>4170</td>\n",
    "    <td>rad/m</td>\n",
    "    <td>Calculations</td>\n",
    "  </tr>\n",
    "  <tr>\n",
    "    <td>$\\rho$</td>\n",
    "    <td>air density</td>\n",
    "    <td>1.225</td>\n",
    "    <td>kg/m3</td>\n",
    "    <td>Known</td>\n",
    "  </tr>\n",
    "  <tr>\n",
    "    <td>f</td>\n",
    "    <td>wingbeat frequency</td>\n",
    "    <td>25</td>\n",
    "    <td>1/s</td>\n",
    "    <td>Known</td>\n",
    "  </tr>\n",
    "  <tr>\n",
    "    <td>$\\phi_o$</td>\n",
    "    <td>sweep angle</td>\n",
    "    <td>100</td>\n",
    "    <td>deg</td>\n",
    "    <td>Willmott & Ellington 1997 I</td>\n",
    "  </tr>\n",
    "</table>\n"
   ]
  },
  {
   "cell_type": "markdown",
   "metadata": {},
   "source": [
    "\n",
    "Note that we find T as the wing sweep (rad) divided by muscle displacement (m). In hawkmoths, muscle displacement is 0.46 mm and wing stroke is 110 deg.\n",
    "\n",
    "From these values, we calculate c and $\\hat{c}$"
   ]
  },
  {
   "cell_type": "code",
   "execution_count": 34,
   "metadata": {},
   "outputs": [],
   "source": [
    "import numpy as np\n",
    "C_d = 1.2\n",
    "R = 0.053\n",
    "r2 = 0.43\n",
    "AR = 5.67\n",
    "l_cp = 0.032 # (0.6 * R from Han et al.)\n",
    "dphi_0 = 25 * 2 * np.pi\n",
    "rho = 1.225\n",
    "c = 0.5 * l_cp * rho * C_d * R**4/AR *r2**2 * 2 # x2 for both wings"
   ]
  },
  {
   "cell_type": "code",
   "execution_count": 35,
   "metadata": {},
   "outputs": [],
   "source": [
    "A_o = 1.74E-3\n",
    "wing_amp = 100 * np.pi / (180 * 2)\n",
    "I_tot = 3.4E-8\n",
    "c_hat = c*wing_amp/I_tot"
   ]
  },
  {
   "cell_type": "code",
   "execution_count": 36,
   "metadata": {},
   "outputs": [],
   "source": [
    "k = 3800\n",
    "T = 100/180 * np.pi/(0.46E-3)\n",
    "w = 25 * 2 * np.pi\n",
    "k_hat = k/(T**2*I_tot*w**2)"
   ]
  },
  {
   "cell_type": "markdown",
   "metadata": {},
   "source": [
    "The resonance frequency is found via $\\hat{k} = \\sqrt{1 + 4\\hat{c}^2}$"
   ]
  },
  {
   "cell_type": "code",
   "execution_count": 37,
   "metadata": {},
   "outputs": [
    {
     "name": "stdout",
     "output_type": "stream",
     "text": [
      "k_hat = 0.31\n",
      "ideal k_hat = 1.18\n",
      "c_hat = 0.31\n"
     ]
    }
   ],
   "source": [
    "print('k_hat = %0.2f' % k_hat)\n",
    "print('ideal k_hat = %0.2f' % np.sqrt(1+4*c_hat**2))\n",
    "print('c_hat = %0.2f' % c_hat)"
   ]
  },
  {
   "cell_type": "markdown",
   "metadata": {},
   "source": [
    "These results suggest that hawkmoths have a sharp resonance peak, but are operating significantly below resonance."
   ]
  },
  {
   "cell_type": "markdown",
   "metadata": {},
   "source": [
    "## Bumblebee Calculations"
   ]
  },
  {
   "cell_type": "markdown",
   "metadata": {},
   "source": [
    "We use these bumblebee parameters\n",
    "\n",
    "<table style=\"width:50%\">\n",
    "  <tr>\n",
    "      <th>Variable</th>\n",
    "      <th>Description</th>\n",
    "      <th>Value</th>\n",
    "      <th>Units</th>\n",
    "      <th>Reference</th>\n",
    "\n",
    "  </tr>\n",
    "  <tr>\n",
    "    <td>$\\tilde{C}_D$</td>\n",
    "    <td>drag coefficient during translation</td>\n",
    "    <td>1.2</td>\n",
    "    <td>N/A </td>\n",
    "    <td>Han et al. 2015 </td>\n",
    "  </tr>\n",
    "  <tr>\n",
    "    <td>R</td>\n",
    "    <td>wing length </td>\n",
    "    <td>0.0109</td>\n",
    "    <td>m</td>\n",
    "    <td>Buchwald & Dudley 2010 </td>\n",
    "  </tr>\n",
    "  <tr>\n",
    "    <td>$\\hat{r}_2^2$</td>\n",
    "    <td>non-dimensional wing inertia</td>\n",
    "    <td>0.44</td>\n",
    "    <td>N/A</td>\n",
    "    <td>Dudley & Ellington 1990</td>\n",
    "  </tr>\n",
    "  <tr>\n",
    "    <td>$A_r$</td>\n",
    "    <td>aspect ratio</td>\n",
    "    <td>6.81</td>\n",
    "    <td>N/A</td>\n",
    "    <td>Buchwald & Dudley 2010</td>\n",
    "  </tr>\n",
    "  <tr>\n",
    "    <td>$A_{o}$</td>\n",
    "    <td>wing area</td>\n",
    "    <td>70.3E-6</td>\n",
    "    <td>m^2</td>\n",
    "    <td>Buchwald & Dudley 2010</td>\n",
    "  </tr>\n",
    "  <tr>\n",
    "    <td>$l_{cp}$</td>\n",
    "    <td>moment of center of pressure</td>\n",
    "    <td>0.0078</td>\n",
    "    <td>m</td>\n",
    "    <td>Han et al. 2015</td>\n",
    "  </tr>\n",
    "  <tr>\n",
    "    <td>$I_{tot}$</td>\n",
    "    <td>total inertia</td>\n",
    "    <td>3.22E-11</td>\n",
    "    <td>kg m2</td>\n",
    "    <td>Dudley & Ellington 1990</td>\n",
    "  </tr>\n",
    "  <tr>\n",
    "    <td>k</td>\n",
    "    <td>thorax stiffness</td>\n",
    "    <td>3800</td>\n",
    "    <td>N/m</td>\n",
    "    <td>Experiments</td>\n",
    "  </tr>\n",
    "  <tr>\n",
    "    <td>T</td>\n",
    "    <td>transmission ratio</td>\n",
    "    <td>38400</td>\n",
    "    <td>rad/m</td>\n",
    "    <td>Calculations</td>\n",
    "  </tr>\n",
    "  <tr>\n",
    "    <td>$\\rho$</td>\n",
    "    <td>air density</td>\n",
    "    <td>1.225</td>\n",
    "    <td>kg/m3</td>\n",
    "    <td>Known</td>\n",
    "  </tr>\n",
    "  <tr>\n",
    "    <td>f</td>\n",
    "    <td>wingbeat frequency</td>\n",
    "    <td>181</td>\n",
    "    <td>1/s</td>\n",
    "    <td>Buchwald & Dudley 2010</td>\n",
    "  </tr>\n",
    "  <tr>\n",
    "    <td>$\\phi_o$</td>\n",
    "    <td>sweep angle</td>\n",
    "    <td>144</td>\n",
    "    <td>deg</td>\n",
    "    <td>Buchwald & Dudley 2010</td>\n",
    "  </tr>\n",
    "</table>\n",
    "\n",
    "Assumed same normalized center of pressure ($l_{cp}/R = 0.6$) and $\\tilde{C_D}$ as hawkmoths."
   ]
  },
  {
   "cell_type": "code",
   "execution_count": 42,
   "metadata": {},
   "outputs": [],
   "source": [
    "C_d = 1.2\n",
    "R = 0.019\n",
    "r2 = 0.44\n",
    "AR = 6.81\n",
    "l_cp = 0.0078\n",
    "dphi_0 = 181 * 2 * np.pi\n",
    "rho = 1.225\n",
    "c = 0.5 * l_cp * rho * C_d * R**4/AR *r2**2* 2 # x2 for both wings"
   ]
  },
  {
   "cell_type": "code",
   "execution_count": 43,
   "metadata": {},
   "outputs": [],
   "source": [
    "A_o = 70.3E-6\n",
    "wing_amp = 144 * np.pi / (180 * 2)\n",
    "I_tot = 3.22E-11\n",
    "c_hat = c*wing_amp/I_tot"
   ]
  },
  {
   "cell_type": "code",
   "execution_count": 44,
   "metadata": {},
   "outputs": [],
   "source": [
    "k = 3800\n",
    "T = 144/180 * np.pi/(5E-3 *0.01) # Assume 1% strain amplitude\n",
    "w = 181 * 2 * np.pi\n",
    "k_hat = k/(T**2*I_tot*w**2)"
   ]
  },
  {
   "cell_type": "code",
   "execution_count": 45,
   "metadata": {
    "scrolled": true
   },
   "outputs": [
    {
     "name": "stdout",
     "output_type": "stream",
     "text": [
      "k_hat = 0.04\n",
      "ideal k_hat = 3.46\n",
      "c_hat = 1.66\n"
     ]
    }
   ],
   "source": [
    "print('k_hat = %0.2f' % k_hat)\n",
    "print('ideal k_hat = %0.2f' % np.sqrt(1+4*c_hat**2))\n",
    "print('c_hat = %0.2f' % c_hat)"
   ]
  },
  {
   "cell_type": "markdown",
   "metadata": {},
   "source": [
    "## Drosophila Calculations"
   ]
  },
  {
   "cell_type": "markdown",
   "metadata": {},
   "source": [
    "We use these drosophila parameters\n",
    "\n",
    "<table style=\"width:50%\">\n",
    "  <tr>\n",
    "      <th>Variable</th>\n",
    "      <th>Description</th>\n",
    "      <th>Value</th>\n",
    "      <th>Units</th>\n",
    "      <th>Reference</th>\n",
    "\n",
    "  </tr>\n",
    "  <tr>\n",
    "    <td>$\\tilde{C}_D$</td>\n",
    "    <td>drag coefficient during translation</td>\n",
    "    <td>.45</td>\n",
    "    <td>N/A </td>\n",
    "    <td>Dickinson Lehmann & Sane 1999</td>\n",
    "  </tr>\n",
    "  <tr>\n",
    "    <td>R</td>\n",
    "    <td>wing length </td>\n",
    "    <td>2.47E-3</td>\n",
    "    <td>m</td>\n",
    "    <td>Lehmann & Dickinson 1997</td>\n",
    "  </tr>\n",
    "  <tr>\n",
    "    <td>$\\hat{r}_2^2(m)$</td>\n",
    "    <td>second moment of wing mass i.e. non-dimensional wing inertia</td>\n",
    "    <td>0.342</td>\n",
    "    <td>N/A</td>\n",
    "    <td>Lehmann & Dickinson 1997</td>\n",
    "  </tr>\n",
    "  <tr>\n",
    "    <td>$A_r$</td>\n",
    "    <td>aspect ratio</td>\n",
    "    <td>1.54</td>\n",
    "    <td>N/A</td>\n",
    "    <td>calculated from Lehmann & Dickinson 1997</td>\n",
    "  </tr>\n",
    "  <tr>\n",
    "    <td>$A_{o}$</td>\n",
    "    <td>wing area</td>\n",
    "    <td>3.95E-6</td>\n",
    "    <td>m^2</td>\n",
    "    <td>Lehmann & Dickinson 1997</td>\n",
    "  </tr>\n",
    "  <tr>\n",
    "    <td>$l_{cp}$</td>\n",
    "    <td>moment of center of pressure</td>\n",
    "    <td>1.45E3</td>\n",
    "    <td>m</td>\n",
    "    <td>Assumed moment of 0.6</td>\n",
    "  </tr>\n",
    "  <tr>\n",
    "    <td>$I_{tot}$</td>\n",
    "    <td>total inertia</td>\n",
    "    <td>4.73E-15</td>\n",
    "    <td>kg m2</td>\n",
    "    <td>calculated from Lehmann & Dickinson 1997</td>\n",
    "  </tr>\n",
    "  <tr>\n",
    "    <td>k</td>\n",
    "    <td>thorax stiffness</td>\n",
    "    <td>60</td>\n",
    "    <td>N/m</td>\n",
    "    <td>(see Drosophila Stiffness Jupyter notebook)</td>\n",
    "  </tr>\n",
    "  <tr>\n",
    "    <td>T</td>\n",
    "    <td>transmission ratio</td>\n",
    "    <td>1.55E5</td>\n",
    "    <td>rad/m</td>\n",
    "    <td>Chann & Dickinson 1996, Lehmann & Dickinson 1997, Swank 2012 </td>\n",
    "  </tr>\n",
    "  <tr>\n",
    "    <td>$\\rho$</td>\n",
    "    <td>air density</td>\n",
    "    <td>1.225</td>\n",
    "    <td>kg/m3</td>\n",
    "    <td>Known</td>\n",
    "  </tr>\n",
    "  <tr>\n",
    "    <td>f</td>\n",
    "    <td>wingbeat frequency</td>\n",
    "    <td>209</td>\n",
    "    <td>1/s</td>\n",
    "    <td>Lehmann & Dickinson 1997</td>\n",
    "  </tr>\n",
    "  <tr>\n",
    "    <td>$\\phi_o$</td>\n",
    "    <td>sweep angle</td>\n",
    "    <td>162</td>\n",
    "    <td>deg</td>\n",
    "    <td>Lehmann & Dickinson 1997</td>\n",
    "  </tr>\n",
    "</table>\n",
    "\n",
    "Assumed same normalized center of pressure ($l_{cp}/R = 0.6$) and $\\tilde{C_D}$ as hawkmoths."
   ]
  },
  {
   "cell_type": "code",
   "execution_count": 22,
   "metadata": {},
   "outputs": [],
   "source": [
    "import numpy as np\n",
    "C_d = 0.45\n",
    "R = 2.47E-3\n",
    "r2 = 0.342\n",
    "AR = 1.54\n",
    "l_cp = R * 0.6\n",
    "dphi_0 = 209 * 2 * np.pi\n",
    "rho = 1.225\n",
    "c = 0.5 * l_cp * rho * C_d * R**4/AR *r2**2 * 2 # x2 for both wings # removed dphi_0 per Nick's Eq. 9"
   ]
  },
  {
   "cell_type": "code",
   "execution_count": 23,
   "metadata": {},
   "outputs": [],
   "source": [
    "A_o = 3.95E-6\n",
    "wing_amp = 162 * np.pi / (180 * 2)\n",
    "I_tot = 4.73E-15 # Both wings.\n",
    "\n",
    "# Use Nick's Eq. 9 and 11 to calculate c_hat. My c is same as nick up to phi_dot_not.\n",
    "\n",
    "c_hat = c*wing_amp/I_tot"
   ]
  },
  {
   "cell_type": "code",
   "execution_count": 24,
   "metadata": {},
   "outputs": [],
   "source": [
    "k = 60 \n",
    "T = 162/180 * np.pi/(17.5E-6) # Assume 1% strain amplitude\n",
    "w = 209 * 2 * np.pi\n",
    "k_hat = k/(T**2*I_tot*w**2)"
   ]
  },
  {
   "cell_type": "code",
   "execution_count": 25,
   "metadata": {
    "scrolled": true
   },
   "outputs": [
    {
     "name": "stdout",
     "output_type": "stream",
     "text": [
      "k_hat = 0.28\n",
      "ideal k_hat = 1.70\n",
      "c_hat = 0.69\n"
     ]
    }
   ],
   "source": [
    "print('k_hat = %0.2f' % k_hat)\n",
    "print('ideal k_hat = %0.2f' % np.sqrt(1+4*c_hat**2))\n",
    "print('c_hat = %0.2f' % c_hat)"
   ]
  },
  {
   "cell_type": "markdown",
   "metadata": {},
   "source": [
    "Like hawkmoths, bumblebees have a sharp resonance peak but fly significantly below resonance. \n",
    "\n",
    "\n",
    "## Conclusions \n",
    "Both hawkmoths and bumblebees are underdamped and fly at wingbeat frequencies far below resonance. Our analysis does not consider muscle stiffness or damping, which we found to be negligible in hawkmoths. One potentially important factor we discount is the structural damping we have observed in both hawkmoths and bumblebees.\n",
    "\n",
    "However, $\\hat{k}$ is so far from $\\hat{k}_{ideal}$ that I find it extremely unlikely that either species is flying at resonance, even if structural damping reduces $\\hat{k}_{ideal}$."
   ]
  }
 ],
 "metadata": {
  "kernelspec": {
   "display_name": "Python 3",
   "language": "python",
   "name": "python3"
  },
  "language_info": {
   "codemirror_mode": {
    "name": "ipython",
    "version": 3
   },
   "file_extension": ".py",
   "mimetype": "text/x-python",
   "name": "python",
   "nbconvert_exporter": "python",
   "pygments_lexer": "ipython3",
   "version": "3.7.4"
  }
 },
 "nbformat": 4,
 "nbformat_minor": 2
}
